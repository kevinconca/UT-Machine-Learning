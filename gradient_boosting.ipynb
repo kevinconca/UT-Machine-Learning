{
 "cells": [
  {
   "cell_type": "code",
   "execution_count": 1,
   "metadata": {},
   "outputs": [
    {
     "name": "stdout",
     "output_type": "stream",
     "text": [
      "Using matplotlib backend: Qt5Agg\n"
     ]
    },
    {
     "name": "stderr",
     "output_type": "stream",
     "text": [
      "/home/kevin/anaconda3/lib/python3.6/site-packages/sklearn/cross_validation.py:44: DeprecationWarning: This module was deprecated in version 0.18 in favor of the model_selection module into which all the refactored classes and functions are moved. Also note that the interface of the new CV iterators are different from that of this module. This module will be removed in 0.20.\n",
      "  \"This module will be removed in 0.20.\", DeprecationWarning)\n"
     ]
    }
   ],
   "source": [
    "%matplotlib\n",
    "\n",
    "import pandas as pd\n",
    "import numpy as np\n",
    "import matplotlib.pyplot as plt\n",
    "from sklearn.ensemble import GradientBoostingClassifier\n",
    "from sklearn.datasets import make_hastie_10_2\n",
    "from scipy.optimize import minimize\n",
    "from sklearn.cross_validation import StratifiedShuffleSplit\n",
    "from sklearn.metrics import log_loss\n",
    "from sklearn.metrics import confusion_matrix\n",
    "import os\n",
    "import sys"
   ]
  },
  {
   "cell_type": "markdown",
   "metadata": {},
   "source": [
    "### Example from Peter Prettenhofer - Gradient Boosted Regression Trees in scikit-learn"
   ]
  },
  {
   "cell_type": "code",
   "execution_count": 2,
   "metadata": {},
   "outputs": [
    {
     "data": {
      "text/plain": [
       "GradientBoostingClassifier(criterion='friedman_mse', init=None,\n",
       "              learning_rate=0.1, loss='deviance', max_depth=3,\n",
       "              max_features=None, max_leaf_nodes=None,\n",
       "              min_impurity_split=1e-07, min_samples_leaf=1,\n",
       "              min_samples_split=2, min_weight_fraction_leaf=0.0,\n",
       "              n_estimators=200, presort='auto', random_state=None,\n",
       "              subsample=1.0, verbose=0, warm_start=False)"
      ]
     },
     "execution_count": 2,
     "metadata": {},
     "output_type": "execute_result"
    }
   ],
   "source": [
    "X, y = make_hastie_10_2(n_samples = 10000)\n",
    "est = GradientBoostingClassifier(n_estimators = 200, max_depth = 3)\n",
    "est.fit(X, y)"
   ]
  },
  {
   "cell_type": "code",
   "execution_count": 3,
   "metadata": {},
   "outputs": [
    {
     "data": {
      "text/plain": [
       "array([[4981,   71],\n",
       "       [ 145, 4803]])"
      ]
     },
     "execution_count": 3,
     "metadata": {},
     "output_type": "execute_result"
    }
   ],
   "source": [
    "pred = est.predict(X)\n",
    "cf0 = confusion_matrix(y, pred)\n",
    "cf0"
   ]
  },
  {
   "cell_type": "markdown",
   "metadata": {},
   "source": [
    "### GradientBoostingRegressor"
   ]
  },
  {
   "cell_type": "code",
   "execution_count": 4,
   "metadata": {
    "collapsed": true
   },
   "outputs": [],
   "source": [
    "from sklearn.ensemble import GradientBoostingRegressor\n",
    "\n",
    "X, y = make_hastie_10_2(n_samples = 100)\n",
    "est = GradientBoostingRegressor(n_estimators = 2000, max_depth = 1).fit(X, y)\n",
    "for pred in est.staged_predict(X):\n",
    "    plt.plot(X[:,0], pred, color = 'r', alpha = 0.1)"
   ]
  },
  {
   "cell_type": "markdown",
   "metadata": {},
   "source": [
    "## Boosting in OTTO dataset"
   ]
  },
  {
   "cell_type": "markdown",
   "metadata": {},
   "source": [
    "### Reading files using pandas"
   ]
  },
  {
   "cell_type": "code",
   "execution_count": 6,
   "metadata": {},
   "outputs": [
    {
     "name": "stdout",
     "output_type": "stream",
     "text": [
      "Training set has 61878 rows and 95 columns\n",
      "   feat_1  feat_2  feat_3  feat_4  feat_5  feat_6  feat_7  feat_8  feat_9  \\\n",
      "0       1       0       0       0       0       0       0       0       0   \n",
      "1       0       0       0       0       0       0       0       1       0   \n",
      "2       0       0       0       0       0       0       0       1       0   \n",
      "3       1       0       0       1       6       1       5       0       0   \n",
      "4       0       0       0       0       0       0       0       0       0   \n",
      "\n",
      "   feat_10   ...     feat_84  feat_85  feat_86  feat_87  feat_88  feat_89  \\\n",
      "0        0   ...           0        1        0        0        0        0   \n",
      "1        0   ...           0        0        0        0        0        0   \n",
      "2        0   ...           0        0        0        0        0        0   \n",
      "3        1   ...          22        0        1        2        0        0   \n",
      "4        0   ...           0        1        0        0        0        0   \n",
      "\n",
      "   feat_90  feat_91  feat_92  feat_93  \n",
      "0        0        0        0        0  \n",
      "1        0        0        0        0  \n",
      "2        0        0        0        0  \n",
      "3        0        0        0        0  \n",
      "4        1        0        0        0  \n",
      "\n",
      "[5 rows x 93 columns]\n"
     ]
    }
   ],
   "source": [
    "train = pd.read_csv(\"Data_Files/train.csv\")\n",
    "print(\"Training set has {0[0]} rows and {0[1]} columns\".format(train.shape))\n",
    "\n",
    "labels = train['target']\n",
    "train.drop(['target', 'id'], axis=1, inplace=True)\n",
    "\n",
    "print(train.head())"
   ]
  },
  {
   "cell_type": "code",
   "execution_count": 10,
   "metadata": {
    "collapsed": true
   },
   "outputs": [],
   "source": [
    "# split the data preserving class distribution\n",
    "sss = StratifiedShuffleSplit(labels, n_iter = 3, test_size = 0.051, train_size = 0.02)\n",
    "for train_index, test_index in sss:\n",
    "    break\n",
    "\n",
    "train_x, train_y = train.values[train_index], labels.values[train_index]\n",
    "test_x, test_y = train.values[test_index], labels.values[test_index]"
   ]
  },
  {
   "cell_type": "code",
   "execution_count": 14,
   "metadata": {},
   "outputs": [
    {
     "data": {
      "text/plain": [
       "0.22843336888716506"
      ]
     },
     "execution_count": 14,
     "metadata": {},
     "output_type": "execute_result"
    }
   ],
   "source": [
    "np.mean(labels == 'Class_6')"
   ]
  },
  {
   "cell_type": "code",
   "execution_count": 17,
   "metadata": {},
   "outputs": [
    {
     "name": "stdout",
     "output_type": "stream",
     "text": [
      "0.228433368887\n",
      "0.22877930477\n",
      "0.22845373891\n"
     ]
    }
   ],
   "source": [
    "# check percentage of classes\n",
    "print (np.mean(labels == 'Class_6'))\n",
    "print (np.mean(train_y == 'Class_6'))\n",
    "print (np.mean(test_y == 'Class_6'))"
   ]
  },
  {
   "cell_type": "code",
   "execution_count": 19,
   "metadata": {},
   "outputs": [],
   "source": [
    "cols = train.columns.values.tolist()\n",
    "cols.append('target')\n",
    "\n",
    "train_data = np.append(train_x, train_y[...,None], 1)\n",
    "df = pd.DataFrame(train_data)\n",
    "df.columns = cols\n",
    "df.to_csv(\"train_small.csv\", index = False)\n",
    "# df.head()\n",
    "\n",
    "test_data = np.append(test_x, test_y[...,None], 1)\n",
    "df = pd.DataFrame(test_data)\n",
    "df.columns = cols\n",
    "df.to_csv(\"test_small.csv\", index = False)\n",
    "# df.head()"
   ]
  },
  {
   "cell_type": "code",
   "execution_count": 20,
   "metadata": {},
   "outputs": [
    {
     "name": "stdout",
     "output_type": "stream",
     "text": [
      "Small training set has 1237 rows and 94 columns\n",
      "Small test set has 3156 rows and 94 columns\n"
     ]
    }
   ],
   "source": [
    "strain_x = pd.read_csv(\"train_small.csv\")\n",
    "print(\"Small training set has {0[0]} rows and {0[1]} columns\".format(strain_x.shape))\n",
    "\n",
    "strain_y = strain_x['target']\n",
    "strain_x.drop(['target'], axis=1, inplace=True)\n",
    "\n",
    "stest_x = pd.read_csv(\"test_small.csv\")\n",
    "print(\"Small test set has {0[0]} rows and {0[1]} columns\".format(stest_x.shape))\n",
    "\n",
    "stest_y = stest_x['target']\n",
    "stest_x.drop(['target'], axis=1, inplace=True)"
   ]
  },
  {
   "cell_type": "markdown",
   "metadata": {},
   "source": [
    "### Test of GradientBoosting with small training and datasets"
   ]
  },
  {
   "cell_type": "code",
   "execution_count": 21,
   "metadata": {},
   "outputs": [
    {
     "data": {
      "text/plain": [
       "GradientBoostingClassifier(criterion='friedman_mse', init=None,\n",
       "              learning_rate=0.1, loss='deviance', max_depth=3,\n",
       "              max_features=1.0, max_leaf_nodes=None,\n",
       "              min_impurity_split=1e-07, min_samples_leaf=1,\n",
       "              min_samples_split=2, min_weight_fraction_leaf=0.0,\n",
       "              n_estimators=200, presort='auto', random_state=None,\n",
       "              subsample=1.0, verbose=0, warm_start=False)"
      ]
     },
     "execution_count": 21,
     "metadata": {},
     "output_type": "execute_result"
    }
   ],
   "source": [
    "est = GradientBoostingClassifier(n_estimators = 200, max_features=1.0)\n",
    "est.fit(strain_x, strain_y)"
   ]
  },
  {
   "cell_type": "code",
   "execution_count": 22,
   "metadata": {},
   "outputs": [
    {
     "name": "stdout",
     "output_type": "stream",
     "text": [
      "[[ 38   0   0   0   0   0   0   0   0]\n",
      " [  0 322   0   0   0   0   0   0   0]\n",
      " [  0   4 156   0   0   0   0   0   0]\n",
      " [  0   0   0  54   0   0   0   0   0]\n",
      " [  0   0   0   0  55   0   0   0   0]\n",
      " [  0   0   0   0   0 283   0   0   0]\n",
      " [  0   0   0   0   0   0  57   0   0]\n",
      " [  0   0   0   0   0   0   0 169   0]\n",
      " [  0   0   0   0   0   0   0   0  99]]\n",
      "0.0596637282383\n"
     ]
    }
   ],
   "source": [
    "y = est.predict(strain_x)\n",
    "print(confusion_matrix(strain_y, y))\n",
    "print(log_loss(strain_y, est.predict_proba(strain_x)))"
   ]
  },
  {
   "cell_type": "markdown",
   "metadata": {},
   "source": [
    "### GridSearch for tuning hyperparameters"
   ]
  },
  {
   "cell_type": "code",
   "execution_count": 26,
   "metadata": {},
   "outputs": [],
   "source": [
    "from sklearn.grid_search import GridSearchCV\n",
    "from sklearn.cross_validation import StratifiedKFold\n",
    "\n",
    "param_grid = {'learning_rate': [0.1, 0.05, 0.02, 0.01],\n",
    "              'max_depth': [2, 4, 6],\n",
    "              'min_samples_leaf': [3, 5, 9, 17],\n",
    "              'max_features': [1.0, 0.7, 0.3, 0.1]}\n",
    "est = GradientBoostingClassifier(n_estimators = 200)\n",
    "sss = StratifiedShuffleSplit(strain_y, n_iter = 3, test_size=0.1)  # percentage of samples for each class is preserved\n",
    "skf = StratifiedKFold(strain_y)                                    # percentage of samples for each class is preserved\n",
    "gs_cv = GridSearchCV(est, param_grid, cv = 3, scoring = 'neg_log_loss')"
   ]
  },
  {
   "cell_type": "code",
   "execution_count": null,
   "metadata": {},
   "outputs": [],
   "source": [
    "gs_cv.fit(strain_x, strain_y)"
   ]
  },
  {
   "cell_type": "code",
   "execution_count": 312,
   "metadata": {
    "collapsed": true
   },
   "outputs": [
    {
     "name": "stdout",
     "output_type": "stream",
     "text": [
      "{'max_features': 0.7, 'learning_rate': 0.05, 'max_depth': 4, 'min_samples_leaf': 17}\n",
      "-0.131446627936\n",
      "-0.831515917566\n"
     ]
    },
    {
     "data": {
      "text/plain": [
       "[mean: -0.81436, std: 0.02329, params: {'max_features': 1.0, 'learning_rate': 0.1, 'max_depth': 2, 'min_samples_leaf': 3},\n",
       " mean: -0.81777, std: 0.05899, params: {'max_features': 1.0, 'learning_rate': 0.1, 'max_depth': 2, 'min_samples_leaf': 5},\n",
       " mean: -0.82465, std: 0.08921, params: {'max_features': 1.0, 'learning_rate': 0.1, 'max_depth': 2, 'min_samples_leaf': 9},\n",
       " mean: -0.78213, std: 0.05095, params: {'max_features': 1.0, 'learning_rate': 0.1, 'max_depth': 2, 'min_samples_leaf': 17},\n",
       " mean: -0.87916, std: 0.01566, params: {'max_features': 0.7, 'learning_rate': 0.1, 'max_depth': 2, 'min_samples_leaf': 3},\n",
       " mean: -0.89048, std: 0.06364, params: {'max_features': 0.7, 'learning_rate': 0.1, 'max_depth': 2, 'min_samples_leaf': 5},\n",
       " mean: -0.86750, std: 0.11402, params: {'max_features': 0.7, 'learning_rate': 0.1, 'max_depth': 2, 'min_samples_leaf': 9},\n",
       " mean: -0.86859, std: 0.09186, params: {'max_features': 0.7, 'learning_rate': 0.1, 'max_depth': 2, 'min_samples_leaf': 17},\n",
       " mean: -0.90129, std: 0.11120, params: {'max_features': 0.3, 'learning_rate': 0.1, 'max_depth': 2, 'min_samples_leaf': 3},\n",
       " mean: -0.80690, std: 0.08366, params: {'max_features': 0.3, 'learning_rate': 0.1, 'max_depth': 2, 'min_samples_leaf': 5},\n",
       " mean: -0.78605, std: 0.06431, params: {'max_features': 0.3, 'learning_rate': 0.1, 'max_depth': 2, 'min_samples_leaf': 9},\n",
       " mean: -0.76651, std: 0.06180, params: {'max_features': 0.3, 'learning_rate': 0.1, 'max_depth': 2, 'min_samples_leaf': 17},\n",
       " mean: -0.82159, std: 0.05840, params: {'max_features': 0.1, 'learning_rate': 0.1, 'max_depth': 2, 'min_samples_leaf': 3},\n",
       " mean: -0.80452, std: 0.09365, params: {'max_features': 0.1, 'learning_rate': 0.1, 'max_depth': 2, 'min_samples_leaf': 5},\n",
       " mean: -0.67569, std: 0.01105, params: {'max_features': 0.1, 'learning_rate': 0.1, 'max_depth': 2, 'min_samples_leaf': 9},\n",
       " mean: -0.72433, std: 0.04869, params: {'max_features': 0.1, 'learning_rate': 0.1, 'max_depth': 2, 'min_samples_leaf': 17},\n",
       " mean: -1.22141, std: 0.12617, params: {'max_features': 1.0, 'learning_rate': 0.1, 'max_depth': 4, 'min_samples_leaf': 3},\n",
       " mean: -0.96188, std: 0.09177, params: {'max_features': 1.0, 'learning_rate': 0.1, 'max_depth': 4, 'min_samples_leaf': 5},\n",
       " mean: -1.01033, std: 0.17582, params: {'max_features': 1.0, 'learning_rate': 0.1, 'max_depth': 4, 'min_samples_leaf': 9},\n",
       " mean: -0.97415, std: 0.13653, params: {'max_features': 1.0, 'learning_rate': 0.1, 'max_depth': 4, 'min_samples_leaf': 17},\n",
       " mean: -0.90383, std: 0.07242, params: {'max_features': 0.7, 'learning_rate': 0.1, 'max_depth': 4, 'min_samples_leaf': 3},\n",
       " mean: -1.05409, std: 0.21803, params: {'max_features': 0.7, 'learning_rate': 0.1, 'max_depth': 4, 'min_samples_leaf': 5},\n",
       " mean: -1.00667, std: 0.10643, params: {'max_features': 0.7, 'learning_rate': 0.1, 'max_depth': 4, 'min_samples_leaf': 9},\n",
       " mean: -1.08819, std: 0.09963, params: {'max_features': 0.7, 'learning_rate': 0.1, 'max_depth': 4, 'min_samples_leaf': 17},\n",
       " mean: -0.93851, std: 0.13087, params: {'max_features': 0.3, 'learning_rate': 0.1, 'max_depth': 4, 'min_samples_leaf': 3},\n",
       " mean: -1.04503, std: 0.08481, params: {'max_features': 0.3, 'learning_rate': 0.1, 'max_depth': 4, 'min_samples_leaf': 5},\n",
       " mean: -0.90605, std: 0.04287, params: {'max_features': 0.3, 'learning_rate': 0.1, 'max_depth': 4, 'min_samples_leaf': 9},\n",
       " mean: -0.78736, std: 0.17767, params: {'max_features': 0.3, 'learning_rate': 0.1, 'max_depth': 4, 'min_samples_leaf': 17},\n",
       " mean: -0.83714, std: 0.08444, params: {'max_features': 0.1, 'learning_rate': 0.1, 'max_depth': 4, 'min_samples_leaf': 3},\n",
       " mean: -0.77176, std: 0.11865, params: {'max_features': 0.1, 'learning_rate': 0.1, 'max_depth': 4, 'min_samples_leaf': 5},\n",
       " mean: -0.81235, std: 0.08449, params: {'max_features': 0.1, 'learning_rate': 0.1, 'max_depth': 4, 'min_samples_leaf': 9},\n",
       " mean: -0.74140, std: 0.11458, params: {'max_features': 0.1, 'learning_rate': 0.1, 'max_depth': 4, 'min_samples_leaf': 17},\n",
       " mean: -1.25772, std: 0.06909, params: {'max_features': 1.0, 'learning_rate': 0.1, 'max_depth': 6, 'min_samples_leaf': 3},\n",
       " mean: -1.09302, std: 0.12330, params: {'max_features': 1.0, 'learning_rate': 0.1, 'max_depth': 6, 'min_samples_leaf': 5},\n",
       " mean: -1.09978, std: 0.02340, params: {'max_features': 1.0, 'learning_rate': 0.1, 'max_depth': 6, 'min_samples_leaf': 9},\n",
       " mean: -1.04499, std: 0.13340, params: {'max_features': 1.0, 'learning_rate': 0.1, 'max_depth': 6, 'min_samples_leaf': 17},\n",
       " mean: -1.23020, std: 0.13883, params: {'max_features': 0.7, 'learning_rate': 0.1, 'max_depth': 6, 'min_samples_leaf': 3},\n",
       " mean: -1.45679, std: 0.06231, params: {'max_features': 0.7, 'learning_rate': 0.1, 'max_depth': 6, 'min_samples_leaf': 5},\n",
       " mean: -1.13258, std: 0.11393, params: {'max_features': 0.7, 'learning_rate': 0.1, 'max_depth': 6, 'min_samples_leaf': 9},\n",
       " mean: -1.09378, std: 0.24870, params: {'max_features': 0.7, 'learning_rate': 0.1, 'max_depth': 6, 'min_samples_leaf': 17},\n",
       " mean: -1.29823, std: 0.05568, params: {'max_features': 0.3, 'learning_rate': 0.1, 'max_depth': 6, 'min_samples_leaf': 3},\n",
       " mean: -1.10985, std: 0.17324, params: {'max_features': 0.3, 'learning_rate': 0.1, 'max_depth': 6, 'min_samples_leaf': 5},\n",
       " mean: -1.04227, std: 0.05988, params: {'max_features': 0.3, 'learning_rate': 0.1, 'max_depth': 6, 'min_samples_leaf': 9},\n",
       " mean: -1.09510, std: 0.09048, params: {'max_features': 0.3, 'learning_rate': 0.1, 'max_depth': 6, 'min_samples_leaf': 17},\n",
       " mean: -1.22190, std: 0.21726, params: {'max_features': 0.1, 'learning_rate': 0.1, 'max_depth': 6, 'min_samples_leaf': 3},\n",
       " mean: -0.93627, std: 0.06806, params: {'max_features': 0.1, 'learning_rate': 0.1, 'max_depth': 6, 'min_samples_leaf': 5},\n",
       " mean: -1.08595, std: 0.14805, params: {'max_features': 0.1, 'learning_rate': 0.1, 'max_depth': 6, 'min_samples_leaf': 9},\n",
       " mean: -0.91431, std: 0.10666, params: {'max_features': 0.1, 'learning_rate': 0.1, 'max_depth': 6, 'min_samples_leaf': 17},\n",
       " mean: -0.86783, std: 0.04459, params: {'max_features': 1.0, 'learning_rate': 0.05, 'max_depth': 2, 'min_samples_leaf': 3},\n",
       " mean: -0.83414, std: 0.04334, params: {'max_features': 1.0, 'learning_rate': 0.05, 'max_depth': 2, 'min_samples_leaf': 5},\n",
       " mean: -0.75315, std: 0.10427, params: {'max_features': 1.0, 'learning_rate': 0.05, 'max_depth': 2, 'min_samples_leaf': 9},\n",
       " mean: -0.82010, std: 0.06773, params: {'max_features': 1.0, 'learning_rate': 0.05, 'max_depth': 2, 'min_samples_leaf': 17},\n",
       " mean: -0.78398, std: 0.07328, params: {'max_features': 0.7, 'learning_rate': 0.05, 'max_depth': 2, 'min_samples_leaf': 3},\n",
       " mean: -0.79931, std: 0.08796, params: {'max_features': 0.7, 'learning_rate': 0.05, 'max_depth': 2, 'min_samples_leaf': 5},\n",
       " mean: -0.75757, std: 0.05877, params: {'max_features': 0.7, 'learning_rate': 0.05, 'max_depth': 2, 'min_samples_leaf': 9},\n",
       " mean: -0.95207, std: 0.04508, params: {'max_features': 0.7, 'learning_rate': 0.05, 'max_depth': 2, 'min_samples_leaf': 17},\n",
       " mean: -0.84123, std: 0.04615, params: {'max_features': 0.3, 'learning_rate': 0.05, 'max_depth': 2, 'min_samples_leaf': 3},\n",
       " mean: -0.82174, std: 0.03789, params: {'max_features': 0.3, 'learning_rate': 0.05, 'max_depth': 2, 'min_samples_leaf': 5},\n",
       " mean: -0.76894, std: 0.03304, params: {'max_features': 0.3, 'learning_rate': 0.05, 'max_depth': 2, 'min_samples_leaf': 9},\n",
       " mean: -0.76143, std: 0.03248, params: {'max_features': 0.3, 'learning_rate': 0.05, 'max_depth': 2, 'min_samples_leaf': 17},\n",
       " mean: -0.80166, std: 0.05881, params: {'max_features': 0.1, 'learning_rate': 0.05, 'max_depth': 2, 'min_samples_leaf': 3},\n",
       " mean: -0.79687, std: 0.06261, params: {'max_features': 0.1, 'learning_rate': 0.05, 'max_depth': 2, 'min_samples_leaf': 5},\n",
       " mean: -0.76432, std: 0.07327, params: {'max_features': 0.1, 'learning_rate': 0.05, 'max_depth': 2, 'min_samples_leaf': 9},\n",
       " mean: -0.88649, std: 0.03662, params: {'max_features': 0.1, 'learning_rate': 0.05, 'max_depth': 2, 'min_samples_leaf': 17},\n",
       " mean: -0.85630, std: 0.12614, params: {'max_features': 1.0, 'learning_rate': 0.05, 'max_depth': 4, 'min_samples_leaf': 3},\n",
       " mean: -0.81911, std: 0.12092, params: {'max_features': 1.0, 'learning_rate': 0.05, 'max_depth': 4, 'min_samples_leaf': 5},\n",
       " mean: -0.84118, std: 0.04038, params: {'max_features': 1.0, 'learning_rate': 0.05, 'max_depth': 4, 'min_samples_leaf': 9},\n",
       " mean: -0.83421, std: 0.10719, params: {'max_features': 1.0, 'learning_rate': 0.05, 'max_depth': 4, 'min_samples_leaf': 17},\n",
       " mean: -0.83597, std: 0.05399, params: {'max_features': 0.7, 'learning_rate': 0.05, 'max_depth': 4, 'min_samples_leaf': 3},\n",
       " mean: -0.80324, std: 0.07505, params: {'max_features': 0.7, 'learning_rate': 0.05, 'max_depth': 4, 'min_samples_leaf': 5},\n",
       " mean: -0.88843, std: 0.09129, params: {'max_features': 0.7, 'learning_rate': 0.05, 'max_depth': 4, 'min_samples_leaf': 9},\n",
       " mean: -0.65115, std: 0.04360, params: {'max_features': 0.7, 'learning_rate': 0.05, 'max_depth': 4, 'min_samples_leaf': 17},\n",
       " mean: -0.73608, std: 0.04905, params: {'max_features': 0.3, 'learning_rate': 0.05, 'max_depth': 4, 'min_samples_leaf': 3},\n",
       " mean: -0.72265, std: 0.08843, params: {'max_features': 0.3, 'learning_rate': 0.05, 'max_depth': 4, 'min_samples_leaf': 5},\n",
       " mean: -0.76603, std: 0.07075, params: {'max_features': 0.3, 'learning_rate': 0.05, 'max_depth': 4, 'min_samples_leaf': 9},\n",
       " mean: -0.77972, std: 0.07530, params: {'max_features': 0.3, 'learning_rate': 0.05, 'max_depth': 4, 'min_samples_leaf': 17},\n",
       " mean: -0.88613, std: 0.04203, params: {'max_features': 0.1, 'learning_rate': 0.05, 'max_depth': 4, 'min_samples_leaf': 3},\n",
       " mean: -0.76041, std: 0.02674, params: {'max_features': 0.1, 'learning_rate': 0.05, 'max_depth': 4, 'min_samples_leaf': 5},\n",
       " mean: -0.74532, std: 0.09025, params: {'max_features': 0.1, 'learning_rate': 0.05, 'max_depth': 4, 'min_samples_leaf': 9},\n",
       " mean: -0.70657, std: 0.08515, params: {'max_features': 0.1, 'learning_rate': 0.05, 'max_depth': 4, 'min_samples_leaf': 17},\n",
       " mean: -0.93998, std: 0.01797, params: {'max_features': 1.0, 'learning_rate': 0.05, 'max_depth': 6, 'min_samples_leaf': 3},\n",
       " mean: -1.14459, std: 0.23970, params: {'max_features': 1.0, 'learning_rate': 0.05, 'max_depth': 6, 'min_samples_leaf': 5},\n",
       " mean: -0.95491, std: 0.21025, params: {'max_features': 1.0, 'learning_rate': 0.05, 'max_depth': 6, 'min_samples_leaf': 9},\n",
       " mean: -0.79352, std: 0.08746, params: {'max_features': 1.0, 'learning_rate': 0.05, 'max_depth': 6, 'min_samples_leaf': 17},\n",
       " mean: -1.03272, std: 0.09309, params: {'max_features': 0.7, 'learning_rate': 0.05, 'max_depth': 6, 'min_samples_leaf': 3},\n",
       " mean: -1.01201, std: 0.06233, params: {'max_features': 0.7, 'learning_rate': 0.05, 'max_depth': 6, 'min_samples_leaf': 5},\n",
       " mean: -0.85660, std: 0.05743, params: {'max_features': 0.7, 'learning_rate': 0.05, 'max_depth': 6, 'min_samples_leaf': 9},\n",
       " mean: -0.78921, std: 0.04095, params: {'max_features': 0.7, 'learning_rate': 0.05, 'max_depth': 6, 'min_samples_leaf': 17},\n",
       " mean: -1.01920, std: 0.10266, params: {'max_features': 0.3, 'learning_rate': 0.05, 'max_depth': 6, 'min_samples_leaf': 3},\n",
       " mean: -0.88981, std: 0.17552, params: {'max_features': 0.3, 'learning_rate': 0.05, 'max_depth': 6, 'min_samples_leaf': 5},\n",
       " mean: -0.88326, std: 0.05252, params: {'max_features': 0.3, 'learning_rate': 0.05, 'max_depth': 6, 'min_samples_leaf': 9},\n",
       " mean: -0.73225, std: 0.04105, params: {'max_features': 0.3, 'learning_rate': 0.05, 'max_depth': 6, 'min_samples_leaf': 17},\n",
       " mean: -0.86350, std: 0.09313, params: {'max_features': 0.1, 'learning_rate': 0.05, 'max_depth': 6, 'min_samples_leaf': 3},\n",
       " mean: -0.91881, std: 0.10892, params: {'max_features': 0.1, 'learning_rate': 0.05, 'max_depth': 6, 'min_samples_leaf': 5},\n",
       " mean: -0.75891, std: 0.03080, params: {'max_features': 0.1, 'learning_rate': 0.05, 'max_depth': 6, 'min_samples_leaf': 9},\n",
       " mean: -0.85950, std: 0.08179, params: {'max_features': 0.1, 'learning_rate': 0.05, 'max_depth': 6, 'min_samples_leaf': 17},\n",
       " mean: -0.89417, std: 0.02195, params: {'max_features': 1.0, 'learning_rate': 0.02, 'max_depth': 2, 'min_samples_leaf': 3},\n",
       " mean: -0.84191, std: 0.04269, params: {'max_features': 1.0, 'learning_rate': 0.02, 'max_depth': 2, 'min_samples_leaf': 5},\n",
       " mean: -0.92621, std: 0.06349, params: {'max_features': 1.0, 'learning_rate': 0.02, 'max_depth': 2, 'min_samples_leaf': 9},\n",
       " mean: -0.85625, std: 0.05297, params: {'max_features': 1.0, 'learning_rate': 0.02, 'max_depth': 2, 'min_samples_leaf': 17},\n",
       " mean: -0.84807, std: 0.03712, params: {'max_features': 0.7, 'learning_rate': 0.02, 'max_depth': 2, 'min_samples_leaf': 3},\n",
       " mean: -0.93983, std: 0.04952, params: {'max_features': 0.7, 'learning_rate': 0.02, 'max_depth': 2, 'min_samples_leaf': 5},\n",
       " mean: -0.89829, std: 0.03125, params: {'max_features': 0.7, 'learning_rate': 0.02, 'max_depth': 2, 'min_samples_leaf': 9},\n",
       " mean: -0.88337, std: 0.09583, params: {'max_features': 0.7, 'learning_rate': 0.02, 'max_depth': 2, 'min_samples_leaf': 17},\n",
       " mean: -0.89529, std: 0.05078, params: {'max_features': 0.3, 'learning_rate': 0.02, 'max_depth': 2, 'min_samples_leaf': 3},\n",
       " mean: -0.87291, std: 0.07347, params: {'max_features': 0.3, 'learning_rate': 0.02, 'max_depth': 2, 'min_samples_leaf': 5},\n",
       " mean: -0.89287, std: 0.07758, params: {'max_features': 0.3, 'learning_rate': 0.02, 'max_depth': 2, 'min_samples_leaf': 9},\n",
       " mean: -0.92651, std: 0.01999, params: {'max_features': 0.3, 'learning_rate': 0.02, 'max_depth': 2, 'min_samples_leaf': 17},\n",
       " mean: -0.94039, std: 0.05541, params: {'max_features': 0.1, 'learning_rate': 0.02, 'max_depth': 2, 'min_samples_leaf': 3},\n",
       " mean: -1.01236, std: 0.06765, params: {'max_features': 0.1, 'learning_rate': 0.02, 'max_depth': 2, 'min_samples_leaf': 5},\n",
       " mean: -0.92230, std: 0.02414, params: {'max_features': 0.1, 'learning_rate': 0.02, 'max_depth': 2, 'min_samples_leaf': 9},\n",
       " mean: -1.00099, std: 0.06677, params: {'max_features': 0.1, 'learning_rate': 0.02, 'max_depth': 2, 'min_samples_leaf': 17},\n",
       " mean: -0.86351, std: 0.10874, params: {'max_features': 1.0, 'learning_rate': 0.02, 'max_depth': 4, 'min_samples_leaf': 3},\n",
       " mean: -0.87542, std: 0.01364, params: {'max_features': 1.0, 'learning_rate': 0.02, 'max_depth': 4, 'min_samples_leaf': 5},\n",
       " mean: -0.81829, std: 0.07136, params: {'max_features': 1.0, 'learning_rate': 0.02, 'max_depth': 4, 'min_samples_leaf': 9},\n",
       " mean: -0.82546, std: 0.02395, params: {'max_features': 1.0, 'learning_rate': 0.02, 'max_depth': 4, 'min_samples_leaf': 17},\n",
       " mean: -0.88315, std: 0.06402, params: {'max_features': 0.7, 'learning_rate': 0.02, 'max_depth': 4, 'min_samples_leaf': 3},\n",
       " mean: -0.84137, std: 0.04876, params: {'max_features': 0.7, 'learning_rate': 0.02, 'max_depth': 4, 'min_samples_leaf': 5},\n",
       " mean: -0.80347, std: 0.01801, params: {'max_features': 0.7, 'learning_rate': 0.02, 'max_depth': 4, 'min_samples_leaf': 9},\n",
       " mean: -0.83175, std: 0.05402, params: {'max_features': 0.7, 'learning_rate': 0.02, 'max_depth': 4, 'min_samples_leaf': 17},\n",
       " mean: -0.78482, std: 0.07280, params: {'max_features': 0.3, 'learning_rate': 0.02, 'max_depth': 4, 'min_samples_leaf': 3},\n",
       " mean: -0.77085, std: 0.05998, params: {'max_features': 0.3, 'learning_rate': 0.02, 'max_depth': 4, 'min_samples_leaf': 5},\n",
       " mean: -0.81532, std: 0.06364, params: {'max_features': 0.3, 'learning_rate': 0.02, 'max_depth': 4, 'min_samples_leaf': 9},\n",
       " mean: -0.82189, std: 0.01814, params: {'max_features': 0.3, 'learning_rate': 0.02, 'max_depth': 4, 'min_samples_leaf': 17},\n",
       " mean: -0.84399, std: 0.00864, params: {'max_features': 0.1, 'learning_rate': 0.02, 'max_depth': 4, 'min_samples_leaf': 3},\n",
       " mean: -0.73650, std: 0.03697, params: {'max_features': 0.1, 'learning_rate': 0.02, 'max_depth': 4, 'min_samples_leaf': 5},\n",
       " mean: -0.82275, std: 0.02339, params: {'max_features': 0.1, 'learning_rate': 0.02, 'max_depth': 4, 'min_samples_leaf': 9},\n",
       " mean: -0.84398, std: 0.04534, params: {'max_features': 0.1, 'learning_rate': 0.02, 'max_depth': 4, 'min_samples_leaf': 17},\n",
       " mean: -0.75711, std: 0.05237, params: {'max_features': 1.0, 'learning_rate': 0.02, 'max_depth': 6, 'min_samples_leaf': 3},\n",
       " mean: -0.78885, std: 0.07104, params: {'max_features': 1.0, 'learning_rate': 0.02, 'max_depth': 6, 'min_samples_leaf': 5},\n",
       " mean: -0.77196, std: 0.03247, params: {'max_features': 1.0, 'learning_rate': 0.02, 'max_depth': 6, 'min_samples_leaf': 9},\n",
       " mean: -0.79740, std: 0.06716, params: {'max_features': 1.0, 'learning_rate': 0.02, 'max_depth': 6, 'min_samples_leaf': 17},\n",
       " mean: -0.82278, std: 0.09903, params: {'max_features': 0.7, 'learning_rate': 0.02, 'max_depth': 6, 'min_samples_leaf': 3},\n",
       " mean: -0.80354, std: 0.05554, params: {'max_features': 0.7, 'learning_rate': 0.02, 'max_depth': 6, 'min_samples_leaf': 5},\n",
       " mean: -0.74475, std: 0.10914, params: {'max_features': 0.7, 'learning_rate': 0.02, 'max_depth': 6, 'min_samples_leaf': 9},\n",
       " mean: -0.77556, std: 0.07114, params: {'max_features': 0.7, 'learning_rate': 0.02, 'max_depth': 6, 'min_samples_leaf': 17},\n",
       " mean: -0.85292, std: 0.05011, params: {'max_features': 0.3, 'learning_rate': 0.02, 'max_depth': 6, 'min_samples_leaf': 3},\n",
       " mean: -0.71433, std: 0.04862, params: {'max_features': 0.3, 'learning_rate': 0.02, 'max_depth': 6, 'min_samples_leaf': 5},\n",
       " mean: -0.72631, std: 0.05262, params: {'max_features': 0.3, 'learning_rate': 0.02, 'max_depth': 6, 'min_samples_leaf': 9},\n",
       " mean: -0.72946, std: 0.03128, params: {'max_features': 0.3, 'learning_rate': 0.02, 'max_depth': 6, 'min_samples_leaf': 17},\n",
       " mean: -0.76902, std: 0.04505, params: {'max_features': 0.1, 'learning_rate': 0.02, 'max_depth': 6, 'min_samples_leaf': 3},\n",
       " mean: -0.77004, std: 0.06784, params: {'max_features': 0.1, 'learning_rate': 0.02, 'max_depth': 6, 'min_samples_leaf': 5},\n",
       " mean: -0.79511, std: 0.01987, params: {'max_features': 0.1, 'learning_rate': 0.02, 'max_depth': 6, 'min_samples_leaf': 9},\n",
       " mean: -0.81976, std: 0.05102, params: {'max_features': 0.1, 'learning_rate': 0.02, 'max_depth': 6, 'min_samples_leaf': 17},\n",
       " mean: -1.04736, std: 0.06320, params: {'max_features': 1.0, 'learning_rate': 0.01, 'max_depth': 2, 'min_samples_leaf': 3},\n",
       " mean: -1.04514, std: 0.06380, params: {'max_features': 1.0, 'learning_rate': 0.01, 'max_depth': 2, 'min_samples_leaf': 5},\n",
       " mean: -1.01465, std: 0.02593, params: {'max_features': 1.0, 'learning_rate': 0.01, 'max_depth': 2, 'min_samples_leaf': 9},\n",
       " mean: -1.11903, std: 0.06678, params: {'max_features': 1.0, 'learning_rate': 0.01, 'max_depth': 2, 'min_samples_leaf': 17},\n",
       " mean: -1.02556, std: 0.05483, params: {'max_features': 0.7, 'learning_rate': 0.01, 'max_depth': 2, 'min_samples_leaf': 3},\n",
       " mean: -1.01555, std: 0.01983, params: {'max_features': 0.7, 'learning_rate': 0.01, 'max_depth': 2, 'min_samples_leaf': 5},\n",
       " mean: -1.05120, std: 0.02136, params: {'max_features': 0.7, 'learning_rate': 0.01, 'max_depth': 2, 'min_samples_leaf': 9},\n",
       " mean: -1.00019, std: 0.02889, params: {'max_features': 0.7, 'learning_rate': 0.01, 'max_depth': 2, 'min_samples_leaf': 17},\n",
       " mean: -1.01076, std: 0.04833, params: {'max_features': 0.3, 'learning_rate': 0.01, 'max_depth': 2, 'min_samples_leaf': 3},\n",
       " mean: -1.06710, std: 0.01620, params: {'max_features': 0.3, 'learning_rate': 0.01, 'max_depth': 2, 'min_samples_leaf': 5},\n",
       " mean: -1.08689, std: 0.02188, params: {'max_features': 0.3, 'learning_rate': 0.01, 'max_depth': 2, 'min_samples_leaf': 9},\n",
       " mean: -1.09036, std: 0.03391, params: {'max_features': 0.3, 'learning_rate': 0.01, 'max_depth': 2, 'min_samples_leaf': 17},\n",
       " mean: -1.22230, std: 0.02787, params: {'max_features': 0.1, 'learning_rate': 0.01, 'max_depth': 2, 'min_samples_leaf': 3},\n",
       " mean: -1.18768, std: 0.02430, params: {'max_features': 0.1, 'learning_rate': 0.01, 'max_depth': 2, 'min_samples_leaf': 5},\n",
       " mean: -1.18731, std: 0.05591, params: {'max_features': 0.1, 'learning_rate': 0.01, 'max_depth': 2, 'min_samples_leaf': 9},\n",
       " mean: -1.20558, std: 0.02340, params: {'max_features': 0.1, 'learning_rate': 0.01, 'max_depth': 2, 'min_samples_leaf': 17},\n",
       " mean: -0.89550, std: 0.04632, params: {'max_features': 1.0, 'learning_rate': 0.01, 'max_depth': 4, 'min_samples_leaf': 3},\n",
       " mean: -0.93910, std: 0.04078, params: {'max_features': 1.0, 'learning_rate': 0.01, 'max_depth': 4, 'min_samples_leaf': 5},\n",
       " mean: -0.93999, std: 0.04298, params: {'max_features': 1.0, 'learning_rate': 0.01, 'max_depth': 4, 'min_samples_leaf': 9},\n",
       " mean: -0.93809, std: 0.05559, params: {'max_features': 1.0, 'learning_rate': 0.01, 'max_depth': 4, 'min_samples_leaf': 17},\n",
       " mean: -0.94900, std: 0.04510, params: {'max_features': 0.7, 'learning_rate': 0.01, 'max_depth': 4, 'min_samples_leaf': 3},\n",
       " mean: -0.91499, std: 0.02450, params: {'max_features': 0.7, 'learning_rate': 0.01, 'max_depth': 4, 'min_samples_leaf': 5},\n",
       " mean: -0.87604, std: 0.05801, params: {'max_features': 0.7, 'learning_rate': 0.01, 'max_depth': 4, 'min_samples_leaf': 9},\n",
       " mean: -0.85715, std: 0.05848, params: {'max_features': 0.7, 'learning_rate': 0.01, 'max_depth': 4, 'min_samples_leaf': 17},\n",
       " mean: -0.89368, std: 0.04196, params: {'max_features': 0.3, 'learning_rate': 0.01, 'max_depth': 4, 'min_samples_leaf': 3},\n",
       " mean: -0.89856, std: 0.04072, params: {'max_features': 0.3, 'learning_rate': 0.01, 'max_depth': 4, 'min_samples_leaf': 5},\n",
       " mean: -0.88924, std: 0.07132, params: {'max_features': 0.3, 'learning_rate': 0.01, 'max_depth': 4, 'min_samples_leaf': 9},\n",
       " mean: -0.89576, std: 0.06766, params: {'max_features': 0.3, 'learning_rate': 0.01, 'max_depth': 4, 'min_samples_leaf': 17},\n",
       " mean: -0.99352, std: 0.03486, params: {'max_features': 0.1, 'learning_rate': 0.01, 'max_depth': 4, 'min_samples_leaf': 3},\n",
       " mean: -1.00151, std: 0.04359, params: {'max_features': 0.1, 'learning_rate': 0.01, 'max_depth': 4, 'min_samples_leaf': 5},\n",
       " mean: -1.01309, std: 0.04195, params: {'max_features': 0.1, 'learning_rate': 0.01, 'max_depth': 4, 'min_samples_leaf': 9},\n",
       " mean: -0.99995, std: 0.06282, params: {'max_features': 0.1, 'learning_rate': 0.01, 'max_depth': 4, 'min_samples_leaf': 17},\n",
       " mean: -0.84833, std: 0.00636, params: {'max_features': 1.0, 'learning_rate': 0.01, 'max_depth': 6, 'min_samples_leaf': 3},\n",
       " mean: -0.85640, std: 0.04412, params: {'max_features': 1.0, 'learning_rate': 0.01, 'max_depth': 6, 'min_samples_leaf': 5},\n",
       " mean: -0.85935, std: 0.09020, params: {'max_features': 1.0, 'learning_rate': 0.01, 'max_depth': 6, 'min_samples_leaf': 9},\n",
       " mean: -0.86901, std: 0.07139, params: {'max_features': 1.0, 'learning_rate': 0.01, 'max_depth': 6, 'min_samples_leaf': 17},\n",
       " mean: -0.86043, std: 0.05963, params: {'max_features': 0.7, 'learning_rate': 0.01, 'max_depth': 6, 'min_samples_leaf': 3},\n",
       " mean: -0.86059, std: 0.00248, params: {'max_features': 0.7, 'learning_rate': 0.01, 'max_depth': 6, 'min_samples_leaf': 5},\n",
       " mean: -0.87916, std: 0.03748, params: {'max_features': 0.7, 'learning_rate': 0.01, 'max_depth': 6, 'min_samples_leaf': 9},\n",
       " mean: -0.92148, std: 0.05538, params: {'max_features': 0.7, 'learning_rate': 0.01, 'max_depth': 6, 'min_samples_leaf': 17},\n",
       " mean: -0.86617, std: 0.09130, params: {'max_features': 0.3, 'learning_rate': 0.01, 'max_depth': 6, 'min_samples_leaf': 3},\n",
       " mean: -0.82092, std: 0.02807, params: {'max_features': 0.3, 'learning_rate': 0.01, 'max_depth': 6, 'min_samples_leaf': 5},\n",
       " mean: -0.83232, std: 0.08885, params: {'max_features': 0.3, 'learning_rate': 0.01, 'max_depth': 6, 'min_samples_leaf': 9},\n",
       " mean: -0.85904, std: 0.02934, params: {'max_features': 0.3, 'learning_rate': 0.01, 'max_depth': 6, 'min_samples_leaf': 17},\n",
       " mean: -0.88336, std: 0.06594, params: {'max_features': 0.1, 'learning_rate': 0.01, 'max_depth': 6, 'min_samples_leaf': 3},\n",
       " mean: -0.87111, std: 0.03235, params: {'max_features': 0.1, 'learning_rate': 0.01, 'max_depth': 6, 'min_samples_leaf': 5},\n",
       " mean: -0.87827, std: 0.02854, params: {'max_features': 0.1, 'learning_rate': 0.01, 'max_depth': 6, 'min_samples_leaf': 9},\n",
       " mean: -0.96830, std: 0.01554, params: {'max_features': 0.1, 'learning_rate': 0.01, 'max_depth': 6, 'min_samples_leaf': 17}]"
      ]
     },
     "execution_count": 312,
     "metadata": {},
     "output_type": "execute_result"
    }
   ],
   "source": [
    "print gs_cv.best_params_\n",
    "print gs_cv.score(strain_x, strain_y)\n",
    "print gs_cv.score(stest_x, stest_y)\n",
    "gs_cv.grid_scores_"
   ]
  },
  {
   "cell_type": "code",
   "execution_count": 314,
   "metadata": {},
   "outputs": [],
   "source": [
    "df = pd.DataFrame(gs_cv.grid_scores_)\n",
    "df.to_csv(\"GBGridSearch.csv\")\n",
    "# df.head()"
   ]
  },
  {
   "cell_type": "code",
   "execution_count": 287,
   "metadata": {
    "collapsed": true
   },
   "outputs": [],
   "source": [
    "sss = StratifiedShuffleSplit(labels, n_iter = 3, test_size = 0.1)\n",
    "for train_index, test_index in sss:\n",
    "    break\n",
    "\n",
    "train_x, train_y = train.values[train_index], labels.values[train_index]\n",
    "test_x, test_y = train.values[test_index], labels.values[test_index]"
   ]
  },
  {
   "cell_type": "code",
   "execution_count": 288,
   "metadata": {},
   "outputs": [
    {
     "ename": "KeyboardInterrupt",
     "evalue": "",
     "output_type": "error",
     "traceback": [
      "\u001b[1;31m---------------------------------------------------------------------------\u001b[0m",
      "\u001b[1;31mKeyboardInterrupt\u001b[0m                         Traceback (most recent call last)",
      "\u001b[1;32m<ipython-input-288-1a20a5040390>\u001b[0m in \u001b[0;36m<module>\u001b[1;34m()\u001b[0m\n\u001b[0;32m      4\u001b[0m \u001b[0mest_2\u001b[0m\u001b[1;33m.\u001b[0m\u001b[0mfit\u001b[0m\u001b[1;33m(\u001b[0m\u001b[0mtrain_x\u001b[0m\u001b[1;33m,\u001b[0m \u001b[0mtrain_y\u001b[0m\u001b[1;33m)\u001b[0m\u001b[1;33m\u001b[0m\u001b[0m\n\u001b[0;32m      5\u001b[0m \u001b[0mest_3\u001b[0m \u001b[1;33m=\u001b[0m \u001b[0mGradientBoostingClassifier\u001b[0m\u001b[1;33m(\u001b[0m\u001b[0mn_estimators\u001b[0m\u001b[1;33m=\u001b[0m\u001b[1;36m1500\u001b[0m\u001b[1;33m)\u001b[0m\u001b[1;33m;\u001b[0m\u001b[1;33m\u001b[0m\u001b[0m\n\u001b[1;32m----> 6\u001b[1;33m \u001b[0mest_3\u001b[0m\u001b[1;33m.\u001b[0m\u001b[0mfit\u001b[0m\u001b[1;33m(\u001b[0m\u001b[0mtrain_x\u001b[0m\u001b[1;33m,\u001b[0m \u001b[0mtrain_y\u001b[0m\u001b[1;33m)\u001b[0m\u001b[1;33m\u001b[0m\u001b[0m\n\u001b[0m",
      "\u001b[1;32mC:\\Python27\\lib\\site-packages\\sklearn\\ensemble\\gradient_boosting.pyc\u001b[0m in \u001b[0;36mfit\u001b[1;34m(self, X, y, sample_weight, monitor)\u001b[0m\n\u001b[0;32m    978\u001b[0m         \u001b[1;31m# fit the boosting stages\u001b[0m\u001b[1;33m\u001b[0m\u001b[1;33m\u001b[0m\u001b[0m\n\u001b[0;32m    979\u001b[0m         n_stages = self._fit_stages(X, y, y_pred, sample_weight, random_state,\n\u001b[1;32m--> 980\u001b[1;33m                                     begin_at_stage, monitor)\n\u001b[0m\u001b[0;32m    981\u001b[0m         \u001b[1;31m# change shape of arrays after fit (early-stopping or additional ests)\u001b[0m\u001b[1;33m\u001b[0m\u001b[1;33m\u001b[0m\u001b[0m\n\u001b[0;32m    982\u001b[0m         \u001b[1;32mif\u001b[0m \u001b[0mn_stages\u001b[0m \u001b[1;33m!=\u001b[0m \u001b[0mself\u001b[0m\u001b[1;33m.\u001b[0m\u001b[0mestimators_\u001b[0m\u001b[1;33m.\u001b[0m\u001b[0mshape\u001b[0m\u001b[1;33m[\u001b[0m\u001b[1;36m0\u001b[0m\u001b[1;33m]\u001b[0m\u001b[1;33m:\u001b[0m\u001b[1;33m\u001b[0m\u001b[0m\n",
      "\u001b[1;32mC:\\Python27\\lib\\site-packages\\sklearn\\ensemble\\gradient_boosting.pyc\u001b[0m in \u001b[0;36m_fit_stages\u001b[1;34m(self, X, y, y_pred, sample_weight, random_state, begin_at_stage, monitor)\u001b[0m\n\u001b[0;32m   1038\u001b[0m             y_pred = self._fit_stage(i, X, y, y_pred, sample_weight,\n\u001b[0;32m   1039\u001b[0m                                      \u001b[0msample_mask\u001b[0m\u001b[1;33m,\u001b[0m \u001b[0mcriterion\u001b[0m\u001b[1;33m,\u001b[0m \u001b[0msplitter\u001b[0m\u001b[1;33m,\u001b[0m\u001b[1;33m\u001b[0m\u001b[0m\n\u001b[1;32m-> 1040\u001b[1;33m                                      random_state)\n\u001b[0m\u001b[0;32m   1041\u001b[0m \u001b[1;33m\u001b[0m\u001b[0m\n\u001b[0;32m   1042\u001b[0m             \u001b[1;31m# track deviance (= loss)\u001b[0m\u001b[1;33m\u001b[0m\u001b[1;33m\u001b[0m\u001b[0m\n",
      "\u001b[1;32mC:\\Python27\\lib\\site-packages\\sklearn\\ensemble\\gradient_boosting.pyc\u001b[0m in \u001b[0;36m_fit_stage\u001b[1;34m(self, i, X, y, y_pred, sample_weight, sample_mask, criterion, splitter, random_state)\u001b[0m\n\u001b[0;32m    764\u001b[0m \u001b[1;33m\u001b[0m\u001b[0m\n\u001b[0;32m    765\u001b[0m             tree.fit(X, residual, sample_weight=sample_weight,\n\u001b[1;32m--> 766\u001b[1;33m                      check_input=False)\n\u001b[0m\u001b[0;32m    767\u001b[0m \u001b[1;33m\u001b[0m\u001b[0m\n\u001b[0;32m    768\u001b[0m             \u001b[1;31m# update tree leaves\u001b[0m\u001b[1;33m\u001b[0m\u001b[1;33m\u001b[0m\u001b[0m\n",
      "\u001b[1;32mC:\\Python27\\lib\\site-packages\\sklearn\\tree\\tree.pyc\u001b[0m in \u001b[0;36mfit\u001b[1;34m(self, X, y, sample_weight, check_input)\u001b[0m\n\u001b[0;32m    302\u001b[0m                                            max_leaf_nodes)\n\u001b[0;32m    303\u001b[0m \u001b[1;33m\u001b[0m\u001b[0m\n\u001b[1;32m--> 304\u001b[1;33m         \u001b[0mbuilder\u001b[0m\u001b[1;33m.\u001b[0m\u001b[0mbuild\u001b[0m\u001b[1;33m(\u001b[0m\u001b[0mself\u001b[0m\u001b[1;33m.\u001b[0m\u001b[0mtree_\u001b[0m\u001b[1;33m,\u001b[0m \u001b[0mX\u001b[0m\u001b[1;33m,\u001b[0m \u001b[0my\u001b[0m\u001b[1;33m,\u001b[0m \u001b[0msample_weight\u001b[0m\u001b[1;33m)\u001b[0m\u001b[1;33m\u001b[0m\u001b[0m\n\u001b[0m\u001b[0;32m    305\u001b[0m \u001b[1;33m\u001b[0m\u001b[0m\n\u001b[0;32m    306\u001b[0m         \u001b[1;32mif\u001b[0m \u001b[0mself\u001b[0m\u001b[1;33m.\u001b[0m\u001b[0mn_outputs_\u001b[0m \u001b[1;33m==\u001b[0m \u001b[1;36m1\u001b[0m\u001b[1;33m:\u001b[0m\u001b[1;33m\u001b[0m\u001b[0m\n",
      "\u001b[1;31mKeyboardInterrupt\u001b[0m: "
     ]
    }
   ],
   "source": [
    "est_1 = GradientBoostingClassifier(n_estimators=1000, max_features=0.7, learning_rate=0.05, max_depth=4, min_samples_leaf=17);\n",
    "est_1.fit(train_x, train_y)\n",
    "est_2 = GradientBoostingClassifier(n_estimators=1000, max_features=None, learning_rate=0.05, max_depth=4, min_samples_leaf=17);\n",
    "est_2.fit(train_x, train_y)"
   ]
  },
  {
   "cell_type": "code",
   "execution_count": 298,
   "metadata": {},
   "outputs": [],
   "source": [
    "test_score_1 = np.empty(len(est_1.estimators_))\n",
    "train_score_1 = np.empty(len(est_1.estimators_))\n",
    "for i, pred in enumerate(est_1.staged_predict_proba(test_x)):\n",
    "    test_score_1[i] = log_loss(test_y, pred)\n",
    "for i, pred in enumerate(est_1.staged_predict_proba(train_x)):\n",
    "    train_score_1[i] = log_loss(train_y, pred)"
   ]
  },
  {
   "cell_type": "code",
   "execution_count": 305,
   "metadata": {},
   "outputs": [],
   "source": [
    "plt.figure(1)\n",
    "plt.plot(np.arange(len(est_1.estimators_)), test_score_1, label='Test')\n",
    "plt.plot(np.arange(len(est_1.estimators_)), train_score_1, label='Train')\n",
    "plt.legend();\n",
    "plt.xlim(0, len(est_1.estimators_));\n",
    "plt.xlabel('Number of trees')\n",
    "plt.ylabel('LogLoss')\n",
    "plt.title('Performance');\n",
    "plt.grid(True)"
   ]
  },
  {
   "cell_type": "code",
   "execution_count": 299,
   "metadata": {
    "collapsed": true
   },
   "outputs": [],
   "source": [
    "test_score_2 = np.empty(len(est_2.estimators_))\n",
    "train_score_2 = np.empty(len(est_2.estimators_))\n",
    "for i, pred in enumerate(est_2.staged_predict_proba(test_x)):\n",
    "    test_score_2[i] = log_loss(test_y, pred)\n",
    "for i, pred in enumerate(est_2.staged_predict_proba(train_x)):\n",
    "    train_score_2[i] = log_loss(train_y, pred)"
   ]
  },
  {
   "cell_type": "code",
   "execution_count": 304,
   "metadata": {
    "collapsed": true
   },
   "outputs": [],
   "source": [
    "plt.figure(2)\n",
    "plt.plot(np.arange(len(est_2.estimators_)), test_score_2, label='Test')\n",
    "plt.plot(np.arange(len(est_2.estimators_)), train_score_2, label='Train')\n",
    "plt.legend();\n",
    "plt.xlim(0, len(est_2.estimators_));\n",
    "plt.xlabel('Number of trees')\n",
    "plt.ylabel('LogLoss')\n",
    "plt.title('Performance');\n",
    "plt.grid(True)"
   ]
  },
  {
   "cell_type": "code",
   "execution_count": 296,
   "metadata": {},
   "outputs": [
    {
     "name": "stdout",
     "output_type": "stream",
     "text": [
      "0.247029867332\n",
      "0.243521994492\n"
     ]
    }
   ],
   "source": [
    "print(log_loss(train_y, est_1.predict_proba(train_x)))\n",
    "print(log_loss(train_y, est_2.predict_proba(train_x)))"
   ]
  }
 ],
 "metadata": {
  "kernelspec": {
   "display_name": "Python 3",
   "language": "python",
   "name": "python3"
  },
  "language_info": {
   "codemirror_mode": {
    "name": "ipython",
    "version": 3
   },
   "file_extension": ".py",
   "mimetype": "text/x-python",
   "name": "python",
   "nbconvert_exporter": "python",
   "pygments_lexer": "ipython3",
   "version": "3.6.1"
  }
 },
 "nbformat": 4,
 "nbformat_minor": 1
}
